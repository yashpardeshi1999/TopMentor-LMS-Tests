{
 "cells": [
  {
   "cell_type": "code",
   "execution_count": 2,
   "id": "b6574965",
   "metadata": {},
   "outputs": [
    {
     "name": "stdout",
     "output_type": "stream",
     "text": [
      "Equation of the line: Y = 0.90X + 2.20\n",
      "Estimated value of Y when X = 10: 11.20\n"
     ]
    }
   ],
   "source": [
    "import numpy as np\n",
    "\n",
    "# Given data points\n",
    "X = np.array([0, 1, 2, 3, 4])\n",
    "Y = np.array([2, 3, 5, 4, 6])\n",
    "\n",
    "# Number of data points\n",
    "n = len(X)\n",
    "\n",
    "# Calculate the slope (m) and intercept (c)\n",
    "m = (n * np.sum(X * Y) - np.sum(X) * np.sum(Y)) / (n * np.sum(X**2) - np.sum(X)**2)\n",
    "c = (np.sum(Y) - m * np.sum(X)) / n\n",
    "\n",
    "# Equation of the line: Y = mX + c\n",
    "print(f\"Equation of the line: Y = {m:.2f}X + {c:.2f}\")\n",
    "\n",
    "# Estimate the value of Y when X=10\n",
    "X_new = 10\n",
    "Y_new = m * X_new + c\n",
    "print(f\"Estimated value of Y when X = {X_new}: {Y_new:.2f}\")\n"
   ]
  }
 ],
 "metadata": {
  "kernelspec": {
   "display_name": "Python 3 (ipykernel)",
   "language": "python",
   "name": "python3"
  },
  "language_info": {
   "codemirror_mode": {
    "name": "ipython",
    "version": 3
   },
   "file_extension": ".py",
   "mimetype": "text/x-python",
   "name": "python",
   "nbconvert_exporter": "python",
   "pygments_lexer": "ipython3",
   "version": "3.10.9"
  }
 },
 "nbformat": 4,
 "nbformat_minor": 5
}
